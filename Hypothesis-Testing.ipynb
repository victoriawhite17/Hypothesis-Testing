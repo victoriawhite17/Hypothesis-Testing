{
 "cells": [
  {
   "cell_type": "markdown",
   "id": "f397d575",
   "metadata": {},
   "source": [
    "# Hypothesis Testing \n",
    "- Victoria White\n",
    "- 27 October 2022"
   ]
  },
  {
   "cell_type": "code",
   "execution_count": 1,
   "id": "b960a974",
   "metadata": {},
   "outputs": [],
   "source": [
    "import json\n",
    "import pandas as pd\n",
    "import numpy as np\n",
    "\n",
    "import matplotlib.pyplot as plt\n",
    "import seaborn as sns\n",
    "\n",
    "from scipy import stats\n",
    "import scipy"
   ]
  },
  {
   "cell_type": "markdown",
   "id": "b38ef46c",
   "metadata": {},
   "source": [
    "## Data"
   ]
  },
  {
   "cell_type": "code",
   "execution_count": 2,
   "id": "643e147d",
   "metadata": {},
   "outputs": [],
   "source": [
    "insurance_df = pd.read_csv('Data/insurance.csv')\n",
    "df = insurance_df.copy()"
   ]
  },
  {
   "cell_type": "code",
   "execution_count": 3,
   "id": "a0ac9d28",
   "metadata": {},
   "outputs": [
    {
     "name": "stdout",
     "output_type": "stream",
     "text": [
      "<class 'pandas.core.frame.DataFrame'>\n",
      "RangeIndex: 1338 entries, 0 to 1337\n",
      "Data columns (total 7 columns):\n",
      " #   Column    Non-Null Count  Dtype  \n",
      "---  ------    --------------  -----  \n",
      " 0   age       1338 non-null   int64  \n",
      " 1   sex       1338 non-null   object \n",
      " 2   bmi       1338 non-null   float64\n",
      " 3   children  1338 non-null   int64  \n",
      " 4   smoker    1338 non-null   object \n",
      " 5   region    1338 non-null   object \n",
      " 6   charges   1338 non-null   float64\n",
      "dtypes: float64(2), int64(2), object(3)\n",
      "memory usage: 73.3+ KB\n"
     ]
    },
    {
     "data": {
      "text/html": [
       "<div>\n",
       "<style scoped>\n",
       "    .dataframe tbody tr th:only-of-type {\n",
       "        vertical-align: middle;\n",
       "    }\n",
       "\n",
       "    .dataframe tbody tr th {\n",
       "        vertical-align: top;\n",
       "    }\n",
       "\n",
       "    .dataframe thead th {\n",
       "        text-align: right;\n",
       "    }\n",
       "</style>\n",
       "<table border=\"1\" class=\"dataframe\">\n",
       "  <thead>\n",
       "    <tr style=\"text-align: right;\">\n",
       "      <th></th>\n",
       "      <th>age</th>\n",
       "      <th>sex</th>\n",
       "      <th>bmi</th>\n",
       "      <th>children</th>\n",
       "      <th>smoker</th>\n",
       "      <th>region</th>\n",
       "      <th>charges</th>\n",
       "    </tr>\n",
       "  </thead>\n",
       "  <tbody>\n",
       "    <tr>\n",
       "      <th>0</th>\n",
       "      <td>19</td>\n",
       "      <td>female</td>\n",
       "      <td>27.900</td>\n",
       "      <td>0</td>\n",
       "      <td>yes</td>\n",
       "      <td>southwest</td>\n",
       "      <td>16884.92400</td>\n",
       "    </tr>\n",
       "    <tr>\n",
       "      <th>1</th>\n",
       "      <td>18</td>\n",
       "      <td>male</td>\n",
       "      <td>33.770</td>\n",
       "      <td>1</td>\n",
       "      <td>no</td>\n",
       "      <td>southeast</td>\n",
       "      <td>1725.55230</td>\n",
       "    </tr>\n",
       "    <tr>\n",
       "      <th>2</th>\n",
       "      <td>28</td>\n",
       "      <td>male</td>\n",
       "      <td>33.000</td>\n",
       "      <td>3</td>\n",
       "      <td>no</td>\n",
       "      <td>southeast</td>\n",
       "      <td>4449.46200</td>\n",
       "    </tr>\n",
       "    <tr>\n",
       "      <th>3</th>\n",
       "      <td>33</td>\n",
       "      <td>male</td>\n",
       "      <td>22.705</td>\n",
       "      <td>0</td>\n",
       "      <td>no</td>\n",
       "      <td>northwest</td>\n",
       "      <td>21984.47061</td>\n",
       "    </tr>\n",
       "    <tr>\n",
       "      <th>4</th>\n",
       "      <td>32</td>\n",
       "      <td>male</td>\n",
       "      <td>28.880</td>\n",
       "      <td>0</td>\n",
       "      <td>no</td>\n",
       "      <td>northwest</td>\n",
       "      <td>3866.85520</td>\n",
       "    </tr>\n",
       "  </tbody>\n",
       "</table>\n",
       "</div>"
      ],
      "text/plain": [
       "   age     sex     bmi  children smoker     region      charges\n",
       "0   19  female  27.900         0    yes  southwest  16884.92400\n",
       "1   18    male  33.770         1     no  southeast   1725.55230\n",
       "2   28    male  33.000         3     no  southeast   4449.46200\n",
       "3   33    male  22.705         0     no  northwest  21984.47061\n",
       "4   32    male  28.880         0     no  northwest   3866.85520"
      ]
     },
     "execution_count": 3,
     "metadata": {},
     "output_type": "execute_result"
    }
   ],
   "source": [
    "#displaying head and info\n",
    "df.info()\n",
    "df.head()\n",
    "#there are no null values"
   ]
  },
  {
   "cell_type": "code",
   "execution_count": 4,
   "id": "95070b0b",
   "metadata": {},
   "outputs": [
    {
     "data": {
      "text/plain": [
       "1"
      ]
     },
     "execution_count": 4,
     "metadata": {},
     "output_type": "execute_result"
    }
   ],
   "source": [
    "#checking for duplicates\n",
    "df.duplicated().sum()"
   ]
  },
  {
   "cell_type": "code",
   "execution_count": 5,
   "id": "8d0ee3d2",
   "metadata": {},
   "outputs": [
    {
     "data": {
      "text/plain": [
       "0"
      ]
     },
     "execution_count": 5,
     "metadata": {},
     "output_type": "execute_result"
    }
   ],
   "source": [
    "#dropping duplicates\n",
    "df = df.drop_duplicates()\n",
    "df.duplicated().sum()"
   ]
  },
  {
   "cell_type": "markdown",
   "id": "9bd7f1f8",
   "metadata": {},
   "source": [
    "## Q1: Do smokers have higher insurance charges than non-smokers?"
   ]
  },
  {
   "cell_type": "markdown",
   "id": "7bdad4da",
   "metadata": {},
   "source": [
    "### 1. State your Null Hypothesis and Alternative Hypothesis\n",
    "- Null Hypothesis: There is no difference in insurance charges between smokers and non-smokers.\n",
    "- Alternate Hypothesis: There is a difference in insurance charges between smokers and non-smokers."
   ]
  },
  {
   "cell_type": "markdown",
   "id": "49a0fdcc",
   "metadata": {},
   "source": [
    "### 2. Select the correct test according to the data type and number of samples. \n",
    "- Type of Data\n",
    "    - numeric\n",
    "- Number of Samples/Groups\n",
    "    - 2 samples\n",
    "- Appropriate Test\n",
    "    - 2 sample T-test"
   ]
  },
  {
   "cell_type": "code",
   "execution_count": 6,
   "id": "5d5f97cc",
   "metadata": {},
   "outputs": [
    {
     "data": {
      "text/plain": [
       "no     1063\n",
       "yes     274\n",
       "Name: smoker, dtype: int64"
      ]
     },
     "execution_count": 6,
     "metadata": {},
     "output_type": "execute_result"
    }
   ],
   "source": [
    "df['smoker'].value_counts()"
   ]
  },
  {
   "cell_type": "code",
   "execution_count": 7,
   "id": "f6b99463",
   "metadata": {},
   "outputs": [],
   "source": [
    "#columns to look at\n",
    "needed_cols = ['smoker', 'charges']"
   ]
  },
  {
   "cell_type": "code",
   "execution_count": 8,
   "id": "d54fe0c0",
   "metadata": {},
   "outputs": [
    {
     "data": {
      "text/html": [
       "<div>\n",
       "<style scoped>\n",
       "    .dataframe tbody tr th:only-of-type {\n",
       "        vertical-align: middle;\n",
       "    }\n",
       "\n",
       "    .dataframe tbody tr th {\n",
       "        vertical-align: top;\n",
       "    }\n",
       "\n",
       "    .dataframe thead th {\n",
       "        text-align: right;\n",
       "    }\n",
       "</style>\n",
       "<table border=\"1\" class=\"dataframe\">\n",
       "  <thead>\n",
       "    <tr style=\"text-align: right;\">\n",
       "      <th></th>\n",
       "      <th>smoker</th>\n",
       "      <th>charges</th>\n",
       "    </tr>\n",
       "  </thead>\n",
       "  <tbody>\n",
       "    <tr>\n",
       "      <th>0</th>\n",
       "      <td>yes</td>\n",
       "      <td>16884.92400</td>\n",
       "    </tr>\n",
       "    <tr>\n",
       "      <th>11</th>\n",
       "      <td>yes</td>\n",
       "      <td>27808.72510</td>\n",
       "    </tr>\n",
       "    <tr>\n",
       "      <th>14</th>\n",
       "      <td>yes</td>\n",
       "      <td>39611.75770</td>\n",
       "    </tr>\n",
       "    <tr>\n",
       "      <th>19</th>\n",
       "      <td>yes</td>\n",
       "      <td>36837.46700</td>\n",
       "    </tr>\n",
       "    <tr>\n",
       "      <th>23</th>\n",
       "      <td>yes</td>\n",
       "      <td>37701.87680</td>\n",
       "    </tr>\n",
       "    <tr>\n",
       "      <th>...</th>\n",
       "      <td>...</td>\n",
       "      <td>...</td>\n",
       "    </tr>\n",
       "    <tr>\n",
       "      <th>1313</th>\n",
       "      <td>yes</td>\n",
       "      <td>36397.57600</td>\n",
       "    </tr>\n",
       "    <tr>\n",
       "      <th>1314</th>\n",
       "      <td>yes</td>\n",
       "      <td>18765.87545</td>\n",
       "    </tr>\n",
       "    <tr>\n",
       "      <th>1321</th>\n",
       "      <td>yes</td>\n",
       "      <td>28101.33305</td>\n",
       "    </tr>\n",
       "    <tr>\n",
       "      <th>1323</th>\n",
       "      <td>yes</td>\n",
       "      <td>43896.37630</td>\n",
       "    </tr>\n",
       "    <tr>\n",
       "      <th>1337</th>\n",
       "      <td>yes</td>\n",
       "      <td>29141.36030</td>\n",
       "    </tr>\n",
       "  </tbody>\n",
       "</table>\n",
       "<p>274 rows × 2 columns</p>\n",
       "</div>"
      ],
      "text/plain": [
       "     smoker      charges\n",
       "0       yes  16884.92400\n",
       "11      yes  27808.72510\n",
       "14      yes  39611.75770\n",
       "19      yes  36837.46700\n",
       "23      yes  37701.87680\n",
       "...     ...          ...\n",
       "1313    yes  36397.57600\n",
       "1314    yes  18765.87545\n",
       "1321    yes  28101.33305\n",
       "1323    yes  43896.37630\n",
       "1337    yes  29141.36030\n",
       "\n",
       "[274 rows x 2 columns]"
      ]
     },
     "execution_count": 8,
     "metadata": {},
     "output_type": "execute_result"
    }
   ],
   "source": [
    "#separating smokers and non-smokers\n",
    "smoker_df = df.loc[df['smoker']=='yes', needed_cols]\n",
    "smoker_df"
   ]
  },
  {
   "cell_type": "code",
   "execution_count": 9,
   "id": "039a9446",
   "metadata": {},
   "outputs": [
    {
     "data": {
      "text/html": [
       "<div>\n",
       "<style scoped>\n",
       "    .dataframe tbody tr th:only-of-type {\n",
       "        vertical-align: middle;\n",
       "    }\n",
       "\n",
       "    .dataframe tbody tr th {\n",
       "        vertical-align: top;\n",
       "    }\n",
       "\n",
       "    .dataframe thead th {\n",
       "        text-align: right;\n",
       "    }\n",
       "</style>\n",
       "<table border=\"1\" class=\"dataframe\">\n",
       "  <thead>\n",
       "    <tr style=\"text-align: right;\">\n",
       "      <th></th>\n",
       "      <th>smoker</th>\n",
       "      <th>charges</th>\n",
       "    </tr>\n",
       "  </thead>\n",
       "  <tbody>\n",
       "    <tr>\n",
       "      <th>1</th>\n",
       "      <td>no</td>\n",
       "      <td>1725.55230</td>\n",
       "    </tr>\n",
       "    <tr>\n",
       "      <th>2</th>\n",
       "      <td>no</td>\n",
       "      <td>4449.46200</td>\n",
       "    </tr>\n",
       "    <tr>\n",
       "      <th>3</th>\n",
       "      <td>no</td>\n",
       "      <td>21984.47061</td>\n",
       "    </tr>\n",
       "    <tr>\n",
       "      <th>4</th>\n",
       "      <td>no</td>\n",
       "      <td>3866.85520</td>\n",
       "    </tr>\n",
       "    <tr>\n",
       "      <th>5</th>\n",
       "      <td>no</td>\n",
       "      <td>3756.62160</td>\n",
       "    </tr>\n",
       "    <tr>\n",
       "      <th>...</th>\n",
       "      <td>...</td>\n",
       "      <td>...</td>\n",
       "    </tr>\n",
       "    <tr>\n",
       "      <th>1332</th>\n",
       "      <td>no</td>\n",
       "      <td>11411.68500</td>\n",
       "    </tr>\n",
       "    <tr>\n",
       "      <th>1333</th>\n",
       "      <td>no</td>\n",
       "      <td>10600.54830</td>\n",
       "    </tr>\n",
       "    <tr>\n",
       "      <th>1334</th>\n",
       "      <td>no</td>\n",
       "      <td>2205.98080</td>\n",
       "    </tr>\n",
       "    <tr>\n",
       "      <th>1335</th>\n",
       "      <td>no</td>\n",
       "      <td>1629.83350</td>\n",
       "    </tr>\n",
       "    <tr>\n",
       "      <th>1336</th>\n",
       "      <td>no</td>\n",
       "      <td>2007.94500</td>\n",
       "    </tr>\n",
       "  </tbody>\n",
       "</table>\n",
       "<p>1063 rows × 2 columns</p>\n",
       "</div>"
      ],
      "text/plain": [
       "     smoker      charges\n",
       "1        no   1725.55230\n",
       "2        no   4449.46200\n",
       "3        no  21984.47061\n",
       "4        no   3866.85520\n",
       "5        no   3756.62160\n",
       "...     ...          ...\n",
       "1332     no  11411.68500\n",
       "1333     no  10600.54830\n",
       "1334     no   2205.98080\n",
       "1335     no   1629.83350\n",
       "1336     no   2007.94500\n",
       "\n",
       "[1063 rows x 2 columns]"
      ]
     },
     "execution_count": 9,
     "metadata": {},
     "output_type": "execute_result"
    }
   ],
   "source": [
    "non_smoker_df = df.loc[df['smoker'] == 'no', needed_cols]\n",
    "non_smoker_df"
   ]
  },
  {
   "cell_type": "code",
   "execution_count": 10,
   "id": "5e71b460",
   "metadata": {},
   "outputs": [
    {
     "data": {
      "text/html": [
       "<div>\n",
       "<style scoped>\n",
       "    .dataframe tbody tr th:only-of-type {\n",
       "        vertical-align: middle;\n",
       "    }\n",
       "\n",
       "    .dataframe tbody tr th {\n",
       "        vertical-align: top;\n",
       "    }\n",
       "\n",
       "    .dataframe thead th {\n",
       "        text-align: right;\n",
       "    }\n",
       "</style>\n",
       "<table border=\"1\" class=\"dataframe\">\n",
       "  <thead>\n",
       "    <tr style=\"text-align: right;\">\n",
       "      <th></th>\n",
       "      <th>smoker</th>\n",
       "      <th>charges</th>\n",
       "    </tr>\n",
       "  </thead>\n",
       "  <tbody>\n",
       "    <tr>\n",
       "      <th>0</th>\n",
       "      <td>yes</td>\n",
       "      <td>16884.9240</td>\n",
       "    </tr>\n",
       "    <tr>\n",
       "      <th>11</th>\n",
       "      <td>yes</td>\n",
       "      <td>27808.7251</td>\n",
       "    </tr>\n",
       "    <tr>\n",
       "      <th>14</th>\n",
       "      <td>yes</td>\n",
       "      <td>39611.7577</td>\n",
       "    </tr>\n",
       "    <tr>\n",
       "      <th>19</th>\n",
       "      <td>yes</td>\n",
       "      <td>36837.4670</td>\n",
       "    </tr>\n",
       "    <tr>\n",
       "      <th>23</th>\n",
       "      <td>yes</td>\n",
       "      <td>37701.8768</td>\n",
       "    </tr>\n",
       "    <tr>\n",
       "      <th>...</th>\n",
       "      <td>...</td>\n",
       "      <td>...</td>\n",
       "    </tr>\n",
       "    <tr>\n",
       "      <th>1332</th>\n",
       "      <td>no</td>\n",
       "      <td>11411.6850</td>\n",
       "    </tr>\n",
       "    <tr>\n",
       "      <th>1333</th>\n",
       "      <td>no</td>\n",
       "      <td>10600.5483</td>\n",
       "    </tr>\n",
       "    <tr>\n",
       "      <th>1334</th>\n",
       "      <td>no</td>\n",
       "      <td>2205.9808</td>\n",
       "    </tr>\n",
       "    <tr>\n",
       "      <th>1335</th>\n",
       "      <td>no</td>\n",
       "      <td>1629.8335</td>\n",
       "    </tr>\n",
       "    <tr>\n",
       "      <th>1336</th>\n",
       "      <td>no</td>\n",
       "      <td>2007.9450</td>\n",
       "    </tr>\n",
       "  </tbody>\n",
       "</table>\n",
       "<p>1337 rows × 2 columns</p>\n",
       "</div>"
      ],
      "text/plain": [
       "     smoker     charges\n",
       "0       yes  16884.9240\n",
       "11      yes  27808.7251\n",
       "14      yes  39611.7577\n",
       "19      yes  36837.4670\n",
       "23      yes  37701.8768\n",
       "...     ...         ...\n",
       "1332     no  11411.6850\n",
       "1333     no  10600.5483\n",
       "1334     no   2205.9808\n",
       "1335     no   1629.8335\n",
       "1336     no   2007.9450\n",
       "\n",
       "[1337 rows x 2 columns]"
      ]
     },
     "execution_count": 10,
     "metadata": {},
     "output_type": "execute_result"
    }
   ],
   "source": [
    "# combining dataframes\n",
    "plot_df = pd.concat([smoker_df, non_smoker_df])\n",
    "plot_df"
   ]
  },
  {
   "cell_type": "code",
   "execution_count": 11,
   "id": "a5d6213e",
   "metadata": {},
   "outputs": [
    {
     "data": {
      "image/png": "[encoded data removed]",
      "text/plain": [
       "<Figure size 640x480 with 1 Axes>"
      ]
     },
     "metadata": {},
     "output_type": "display_data"
    }
   ],
   "source": [
    "#visualizing group means\n",
    "sns.barplot(data = plot_df, x ='smoker', y='charges');"
   ]
  },
  {
   "cell_type": "markdown",
   "id": "81608b0f",
   "metadata": {},
   "source": [
    "### Testing Assumptions\n",
    "- No significant outliers\n",
    "- Normality\n",
    "- Equal Variance"
   ]
  },
  {
   "cell_type": "code",
   "execution_count": 12,
   "id": "a4408768",
   "metadata": {},
   "outputs": [
    {
     "data": {
      "text/plain": [
       "0       16884.92400\n",
       "11      27808.72510\n",
       "14      39611.75770\n",
       "19      36837.46700\n",
       "23      37701.87680\n",
       "           ...     \n",
       "1313    36397.57600\n",
       "1314    18765.87545\n",
       "1321    28101.33305\n",
       "1323    43896.37630\n",
       "1337    29141.36030\n",
       "Name: charges, Length: 274, dtype: float64"
      ]
     },
     "execution_count": 12,
     "metadata": {},
     "output_type": "execute_result"
    }
   ],
   "source": [
    "#saving numeric col as final group variables\n",
    "smokers = smoker_df['charges']\n",
    "non_smokers = non_smoker_df['charges']\n",
    "smokers"
   ]
  },
  {
   "cell_type": "code",
   "execution_count": 13,
   "id": "9e4a8f9d",
   "metadata": {},
   "outputs": [
    {
     "data": {
      "text/plain": [
       "0"
      ]
     },
     "execution_count": 13,
     "metadata": {},
     "output_type": "execute_result"
    }
   ],
   "source": [
    "#checking for outliers in smoker\n",
    "smoker_outliers = np.abs(stats.zscore(smokers)) > 3\n",
    "smoker_outliers.sum()"
   ]
  },
  {
   "cell_type": "code",
   "execution_count": 14,
   "id": "046f5876",
   "metadata": {},
   "outputs": [
    {
     "data": {
      "text/plain": [
       "0       16884.92400\n",
       "11      27808.72510\n",
       "14      39611.75770\n",
       "19      36837.46700\n",
       "23      37701.87680\n",
       "           ...     \n",
       "1313    36397.57600\n",
       "1314    18765.87545\n",
       "1321    28101.33305\n",
       "1323    43896.37630\n",
       "1337    29141.36030\n",
       "Name: charges, Length: 274, dtype: float64"
      ]
     },
     "execution_count": 14,
     "metadata": {},
     "output_type": "execute_result"
    }
   ],
   "source": [
    "#making copy for clean smoker group since there were no outliers to drop\n",
    "smoker_cln = smokers.copy()\n",
    "smoker_cln"
   ]
  },
  {
   "cell_type": "code",
   "execution_count": 15,
   "id": "ce40ed53",
   "metadata": {},
   "outputs": [
    {
     "data": {
      "text/plain": [
       "24"
      ]
     },
     "execution_count": 15,
     "metadata": {},
     "output_type": "execute_result"
    }
   ],
   "source": [
    "#checking for outliers in non_smoker\n",
    "non_smoker_outliers = np.abs(stats.zscore(non_smokers)) > 3\n",
    "non_smoker_outliers.sum()"
   ]
  },
  {
   "cell_type": "code",
   "execution_count": 16,
   "id": "2435ca53",
   "metadata": {},
   "outputs": [
    {
     "data": {
      "text/plain": [
       "1        1725.55230\n",
       "2        4449.46200\n",
       "3       21984.47061\n",
       "4        3866.85520\n",
       "5        3756.62160\n",
       "           ...     \n",
       "1332    11411.68500\n",
       "1333    10600.54830\n",
       "1334     2205.98080\n",
       "1335     1629.83350\n",
       "1336     2007.94500\n",
       "Name: charges, Length: 1039, dtype: float64"
      ]
     },
     "execution_count": 16,
     "metadata": {},
     "output_type": "execute_result"
    }
   ],
   "source": [
    "#dropping outliers\n",
    "non_smoker_cln = non_smokers[non_smoker_outliers==False]\n",
    "non_smoker_cln"
   ]
  },
  {
   "cell_type": "markdown",
   "id": "cc4d3744",
   "metadata": {},
   "source": [
    "#### Test for Normality"
   ]
  },
  {
   "cell_type": "code",
   "execution_count": 17,
   "id": "f5cc5bc0",
   "metadata": {},
   "outputs": [
    {
     "data": {
      "text/plain": [
       "NormaltestResult(statistic=61.03941356533816, pvalue=5.564930630036463e-14)"
      ]
     },
     "execution_count": 17,
     "metadata": {},
     "output_type": "execute_result"
    }
   ],
   "source": [
    "#check smoker group for normality\n",
    "stats.normaltest(smoker_cln)"
   ]
  },
  {
   "cell_type": "code",
   "execution_count": 18,
   "id": "a4804bab",
   "metadata": {},
   "outputs": [
    {
     "data": {
      "text/plain": [
       "NormaltestResult(statistic=163.70821423990097, pvalue=2.8262654970074626e-36)"
      ]
     },
     "execution_count": 18,
     "metadata": {},
     "output_type": "execute_result"
    }
   ],
   "source": [
    "#check non_smoker group for normality\n",
    "stats.normaltest(non_smoker_cln)"
   ]
  },
  {
   "cell_type": "markdown",
   "id": "e4459d30",
   "metadata": {},
   "source": [
    "#### - Both p values are smaller than the alpha value (0.05), but there are enough samples to proceed."
   ]
  },
  {
   "cell_type": "markdown",
   "id": "c029fc8b",
   "metadata": {},
   "source": [
    "#### Test for Equal Variance"
   ]
  },
  {
   "cell_type": "code",
   "execution_count": 19,
   "id": "b088dd6c",
   "metadata": {},
   "outputs": [
    {
     "data": {
      "text/plain": [
       "LeveneResult(statistic=520.7178262969225, pvalue=2.512613039096279e-97)"
      ]
     },
     "execution_count": 19,
     "metadata": {},
     "output_type": "execute_result"
    }
   ],
   "source": [
    "result = stats.levene(smoker_cln, non_smoker_cln)\n",
    "result"
   ]
  },
  {
   "cell_type": "markdown",
   "id": "21b4e7ee",
   "metadata": {},
   "source": [
    "#### - These two groups don't have equal variance, so we will need to include \"equal_var=False\" when we perform the t-test."
   ]
  },
  {
   "cell_type": "markdown",
   "id": "423c0783",
   "metadata": {},
   "source": [
    "### Q1 Final Hypothesis Test"
   ]
  },
  {
   "cell_type": "code",
   "execution_count": 26,
   "id": "0e30c1fc",
   "metadata": {},
   "outputs": [
    {
     "data": {
      "text/plain": [
       "Ttest_indResult(statistic=33.723466247187815, pvalue=2.7282718648018296e-104)"
      ]
     },
     "execution_count": 26,
     "metadata": {},
     "output_type": "execute_result"
    }
   ],
   "source": [
    "final_result = stats.ttest_ind(smoker_cln, non_smoker_cln, equal_var=False)\n",
    "final_result"
   ]
  },
  {
   "cell_type": "markdown",
   "id": "60bcdeda",
   "metadata": {},
   "source": [
    "#### - The pvalue is way smaller than our alpha value, so we reject the null hypothesis."
   ]
  },
  {
   "cell_type": "code",
   "execution_count": 25,
   "id": "35586cf7",
   "metadata": {},
   "outputs": [
    {
     "name": "stdout",
     "output_type": "stream",
     "text": [
      "Smoker AVG Charge\n",
      "32050.23183153284\n",
      "Non-Smoker AVG Charge\n",
      "7945.9246538585185\n"
     ]
    }
   ],
   "source": [
    "print('Smoker AVG Charge')\n",
    "print(smoker_cln.mean())\n",
    "print('Non-Smoker AVG Charge')\n",
    "print(non_smoker_cln.mean())"
   ]
  },
  {
   "cell_type": "markdown",
   "id": "cef44626",
   "metadata": {},
   "source": [
    "#### Final Conclusion\n",
    "- Smokers have higher insurance charges than non-smokers."
   ]
  },
  {
   "cell_type": "markdown",
   "id": "058b5416",
   "metadata": {},
   "source": [
    "## Q2: Are men more likely to smoke than women?"
   ]
  },
  {
   "cell_type": "markdown",
   "id": "0c2f1fc1",
   "metadata": {},
   "source": [
    "### 1. State the Null Hypothesis and Alternate Hypothesis\n",
    "- Null Hypothesis: There is no relationship between a person's sex and whether or not that person smokes.\n",
    "- Alternate Hypothesis: A person's sex influences if that person smokes or not."
   ]
  },
  {
   "cell_type": "markdown",
   "id": "5821d6f6",
   "metadata": {},
   "source": [
    "### 2. Select the correct test according to the data type and number of samples. \n",
    "- Type of Data\n",
    "    - categorical\n",
    "- Number of Samples/Groups\n",
    "    - 2 samples\n",
    "- Appropriate Test\n",
    "    - Chi-Square"
   ]
  },
  {
   "cell_type": "code",
   "execution_count": 30,
   "id": "8fdf36e3",
   "metadata": {},
   "outputs": [
    {
     "data": {
      "image/png": "[encoded data removed]",
      "text/plain": [
       "<Figure size 640x480 with 1 Axes>"
      ]
     },
     "metadata": {},
     "output_type": "display_data"
    }
   ],
   "source": [
    "sns.countplot(data=df, x='sex', hue='smoker');"
   ]
  },
  {
   "cell_type": "markdown",
   "id": "e96f5c95",
   "metadata": {},
   "source": [
    "### Testing Assumptions\n",
    "#### Assumptions  \n",
    "- There are two categorical variables.\n",
    "- The outcomes are independent."
   ]
  },
  {
   "cell_type": "code",
   "execution_count": 31,
   "id": "039dbfcc",
   "metadata": {},
   "outputs": [
    {
     "data": {
      "text/html": [
       "<div>\n",
       "<style scoped>\n",
       "    .dataframe tbody tr th:only-of-type {\n",
       "        vertical-align: middle;\n",
       "    }\n",
       "\n",
       "    .dataframe tbody tr th {\n",
       "        vertical-align: top;\n",
       "    }\n",
       "\n",
       "    .dataframe thead th {\n",
       "        text-align: right;\n",
       "    }\n",
       "</style>\n",
       "<table border=\"1\" class=\"dataframe\">\n",
       "  <thead>\n",
       "    <tr style=\"text-align: right;\">\n",
       "      <th>smoker</th>\n",
       "      <th>no</th>\n",
       "      <th>yes</th>\n",
       "    </tr>\n",
       "    <tr>\n",
       "      <th>sex</th>\n",
       "      <th></th>\n",
       "      <th></th>\n",
       "    </tr>\n",
       "  </thead>\n",
       "  <tbody>\n",
       "    <tr>\n",
       "      <th>female</th>\n",
       "      <td>547</td>\n",
       "      <td>115</td>\n",
       "    </tr>\n",
       "    <tr>\n",
       "      <th>male</th>\n",
       "      <td>516</td>\n",
       "      <td>159</td>\n",
       "    </tr>\n",
       "  </tbody>\n",
       "</table>\n",
       "</div>"
      ],
      "text/plain": [
       "smoker   no  yes\n",
       "sex             \n",
       "female  547  115\n",
       "male    516  159"
      ]
     },
     "execution_count": 31,
     "metadata": {},
     "output_type": "execute_result"
    }
   ],
   "source": [
    "q2_table = pd.crosstab(df['sex'], df['smoker'])\n",
    "q2_table"
   ]
  },
  {
   "cell_type": "markdown",
   "id": "f5ae7741",
   "metadata": {},
   "source": [
    "### Q2 Final Hypothesis Testing"
   ]
  },
  {
   "cell_type": "code",
   "execution_count": 32,
   "id": "cdfd0163",
   "metadata": {},
   "outputs": [],
   "source": [
    "#running test and saving output\n",
    "q2_result = stats.chi2_contingency(q2_table)\n",
    "chi2, p, def_free, expected_vals = q2_result"
   ]
  },
  {
   "cell_type": "code",
   "execution_count": 36,
   "id": "de2b0fcc",
   "metadata": {},
   "outputs": [
    {
     "name": "stdout",
     "output_type": "stream",
     "text": [
      "0.0062765550120107375\n"
     ]
    },
    {
     "data": {
      "text/plain": [
       "True"
      ]
     },
     "execution_count": 36,
     "metadata": {},
     "output_type": "execute_result"
    }
   ],
   "source": [
    "print(p)\n",
    "p < 0.5"
   ]
  },
  {
   "cell_type": "markdown",
   "id": "773d9d27",
   "metadata": {},
   "source": [
    "#### Final Conclusion\n",
    "#### - The p-value is less than 0.05 so we reject the null hypothesis. A person's sex does influence whether or not they smoke.\n",
    "#### - From our table, we see that there are more female non-smokers and more male smokers. Therefore, men are more likely to smoke."
   ]
  },
  {
   "cell_type": "markdown",
   "id": "033cc833",
   "metadata": {},
   "source": [
    "## Q3: Do different regions have different charges, on average?"
   ]
  },
  {
   "cell_type": "markdown",
   "id": "404b52f2",
   "metadata": {},
   "source": [
    "### 1. State your Null Hypothesis and Alternative Hypothesis\n",
    "- Null Hypothesis: There is no difference in average charges of different regions.\n",
    "- Alternate Hypothesis: There is a difference in average charges of different regions."
   ]
  },
  {
   "cell_type": "markdown",
   "id": "a2c288f7",
   "metadata": {},
   "source": [
    "### 2. Select the correct test according to the data type and number of samples. \n",
    "- Type of Data\n",
    "    - numeric\n",
    "- Number of Samples/Groups\n",
    "    - 4 samples\n",
    "- Appropriate Test\n",
    "    - ANOVA and Kruskal-Wallis"
   ]
  },
  {
   "cell_type": "code",
   "execution_count": 76,
   "id": "c3081e52",
   "metadata": {},
   "outputs": [
    {
     "data": {
      "text/plain": [
       "array(['southwest', 'southeast', 'northwest', 'northeast'], dtype=object)"
      ]
     },
     "execution_count": 76,
     "metadata": {},
     "output_type": "execute_result"
    }
   ],
   "source": [
    "regions = df['region'].unique()\n",
    "regions"
   ]
  },
  {
   "cell_type": "code",
   "execution_count": 77,
   "id": "adaace95",
   "metadata": {},
   "outputs": [
    {
     "data": {
      "text/plain": [
       "<AxesSubplot:xlabel='region', ylabel='charges'>"
      ]
     },
     "execution_count": 77,
     "metadata": {},
     "output_type": "execute_result"
    },
    {
     "data": {
      "image/png": "[encoded data removed]",
      "text/plain": [
       "<Figure size 640x480 with 1 Axes>"
      ]
     },
     "metadata": {},
     "output_type": "display_data"
    }
   ],
   "source": [
    "sns.barplot(data=df, x= 'region', y='charges')"
   ]
  },
  {
   "cell_type": "markdown",
   "id": "15e8c2ac",
   "metadata": {},
   "source": [
    "### Testing Assumptions"
   ]
  },
  {
   "cell_type": "code",
   "execution_count": 61,
   "id": "20d1e0bc",
   "metadata": {},
   "outputs": [],
   "source": [
    "#creating dict with each region as key and charges as values\n",
    "groups = {}\n",
    "\n",
    "for region in regions:\n",
    "    temp = df.loc[df['region']==region, 'charges']\n",
    "    groups[region] = temp"
   ]
  },
  {
   "cell_type": "code",
   "execution_count": 62,
   "id": "1836acf8",
   "metadata": {},
   "outputs": [
    {
     "data": {
      "text/plain": [
       "1        1725.5523\n",
       "2        4449.4620\n",
       "5        3756.6216\n",
       "6        8240.5896\n",
       "11      27808.7251\n",
       "           ...    \n",
       "1322    12981.3457\n",
       "1323    43896.3763\n",
       "1327     9377.9047\n",
       "1330    12629.1656\n",
       "1335     1629.8335\n",
       "Name: charges, Length: 364, dtype: float64"
      ]
     },
     "execution_count": 62,
     "metadata": {},
     "output_type": "execute_result"
    }
   ],
   "source": [
    "#checking region in dict\n",
    "groups['southeast']"
   ]
  },
  {
   "cell_type": "markdown",
   "id": "8047a33c",
   "metadata": {},
   "source": [
    "#### Checking Assumption for Significant Outliers"
   ]
  },
  {
   "cell_type": "code",
   "execution_count": 65,
   "id": "09d502ee",
   "metadata": {},
   "outputs": [
    {
     "name": "stdout",
     "output_type": "stream",
     "text": [
      "There were 8 outliers in southwest\n",
      "There were 2 outliers in southeast\n",
      "There were 7 outliers in northwest\n",
      "There were 4 outliers in northeast\n"
     ]
    }
   ],
   "source": [
    "groups_cln = {}\n",
    "\n",
    "for region_name, group_data in groups.items():\n",
    "    idx_outliers = np.abs(stats.zscore(group_data)) > 3\n",
    "    print(f\"There were {idx_outliers.sum()} outliers in {region_name}\")\n",
    "    group_data_cln = group_data[idx_outliers==False]\n",
    "    groups_cln[region_name] = group_data_cln\n",
    "    "
   ]
  },
  {
   "cell_type": "markdown",
   "id": "012e83ea",
   "metadata": {},
   "source": [
    "### Test for Normality"
   ]
  },
  {
   "cell_type": "code",
   "execution_count": 69,
   "id": "d876e0db",
   "metadata": {},
   "outputs": [
    {
     "data": {
      "text/plain": [
       "[['group', 'n', 'pval', 'sig?'],\n",
       " ['southwest', 317, 7.728611243124505e-22, True],\n",
       " ['southeast', 362, 1.9369900501741734e-13, True],\n",
       " ['northwest', 317, 3.547435352928033e-19, True],\n",
       " ['northeast', 320, 3.5578767155624347e-17, True]]"
      ]
     },
     "execution_count": 69,
     "metadata": {},
     "output_type": "execute_result"
    }
   ],
   "source": [
    "norm_results = [['group', 'n', 'pval', 'sig?']]\n",
    "\n",
    "for region_name, region_data in groups_cln.items():\n",
    "    result = stats.normaltest(region_data)\n",
    "    norm_results.append([region_name, len(region_data), result.pvalue,\n",
    "                         result.pvalue < 0.05])\n",
    "    \n",
    "norm_results"
   ]
  },
  {
   "cell_type": "markdown",
   "id": "98dcbffe",
   "metadata": {},
   "source": [
    "#### All pvalues are significant, but we have enough samples to proceed."
   ]
  },
  {
   "cell_type": "markdown",
   "id": "16c2abfc",
   "metadata": {},
   "source": [
    "### Test for Equal Variance"
   ]
  },
  {
   "cell_type": "code",
   "execution_count": 71,
   "id": "6cd8dfef",
   "metadata": {},
   "outputs": [
    {
     "data": {
      "text/plain": [
       "LeveneResult(statistic=9.515214992781331, pvalue=3.218183807441283e-06)"
      ]
     },
     "execution_count": 71,
     "metadata": {},
     "output_type": "execute_result"
    }
   ],
   "source": [
    "stats.levene(*groups_cln.values())"
   ]
  },
  {
   "cell_type": "markdown",
   "id": "406909f6",
   "metadata": {},
   "source": [
    "#### Pvalue < 0.05 so we reject the null hypothesis, meaning we do not have equal variance. We will need to use Kruskal-Wallis for our final hypothesis testing."
   ]
  },
  {
   "cell_type": "markdown",
   "id": "c1199f41",
   "metadata": {},
   "source": [
    "### Q3 Final Hypothesis Testing"
   ]
  },
  {
   "cell_type": "code",
   "execution_count": 75,
   "id": "2b14494a",
   "metadata": {},
   "outputs": [
    {
     "data": {
      "text/plain": [
       "KruskalResult(statistic=6.770873301853044, pvalue=0.07957070570915381)"
      ]
     },
     "execution_count": 75,
     "metadata": {},
     "output_type": "execute_result"
    }
   ],
   "source": [
    "stats.kruskal(*groups_cln.values())"
   ]
  },
  {
   "cell_type": "markdown",
   "id": "17ed407b",
   "metadata": {},
   "source": [
    "#### Pvalue > 0.05 so we fail to reject our null hypothesis. There is no significant difference in average charges in different regions. "
   ]
  },
  {
   "cell_type": "code",
   "execution_count": 80,
   "id": "1911e9a7",
   "metadata": {},
   "outputs": [
    {
     "data": {
      "text/html": [
       "<div>\n",
       "<style scoped>\n",
       "    .dataframe tbody tr th:only-of-type {\n",
       "        vertical-align: middle;\n",
       "    }\n",
       "\n",
       "    .dataframe tbody tr th {\n",
       "        vertical-align: top;\n",
       "    }\n",
       "\n",
       "    .dataframe thead th {\n",
       "        text-align: right;\n",
       "    }\n",
       "</style>\n",
       "<table border=\"1\" class=\"dataframe\">\n",
       "  <thead>\n",
       "    <tr style=\"text-align: right;\">\n",
       "      <th></th>\n",
       "      <th>region</th>\n",
       "      <th>charges</th>\n",
       "    </tr>\n",
       "  </thead>\n",
       "  <tbody>\n",
       "    <tr>\n",
       "      <th>0</th>\n",
       "      <td>northeast</td>\n",
       "      <td>13406.384516</td>\n",
       "    </tr>\n",
       "    <tr>\n",
       "      <th>1</th>\n",
       "      <td>northwest</td>\n",
       "      <td>12450.840844</td>\n",
       "    </tr>\n",
       "    <tr>\n",
       "      <th>2</th>\n",
       "      <td>southeast</td>\n",
       "      <td>14735.411438</td>\n",
       "    </tr>\n",
       "    <tr>\n",
       "      <th>3</th>\n",
       "      <td>southwest</td>\n",
       "      <td>12346.937377</td>\n",
       "    </tr>\n",
       "  </tbody>\n",
       "</table>\n",
       "</div>"
      ],
      "text/plain": [
       "      region       charges\n",
       "0  northeast  13406.384516\n",
       "1  northwest  12450.840844\n",
       "2  southeast  14735.411438\n",
       "3  southwest  12346.937377"
      ]
     },
     "execution_count": 80,
     "metadata": {},
     "output_type": "execute_result"
    }
   ],
   "source": [
    "df.groupby('region', as_index=False)['charges'].mean()"
   ]
  }
 ],
 "metadata": {
  "kernelspec": {
   "display_name": "Python (dojo-env)",
   "language": "python",
   "name": "dojo-env"
  },
  "language_info": {
   "codemirror_mode": {
    "name": "ipython",
    "version": 3
   },
   "file_extension": ".py",
   "mimetype": "text/x-python",
   "name": "python",
   "nbconvert_exporter": "python",
   "pygments_lexer": "ipython3",
   "version": "3.8.13"
  },
  "toc": {
   "base_numbering": 1,
   "nav_menu": {},
   "number_sections": false,
   "sideBar": true,
   "skip_h1_title": true,
   "title_cell": "Table of Contents",
   "title_sidebar": "Contents",
   "toc_cell": false,
   "toc_position": {
    "height": "calc(100% - 180px)",
    "left": "10px",
    "top": "150px",
    "width": "384px"
   },
   "toc_section_display": true,
   "toc_window_display": true
  }
 },
 "nbformat": 4,
 "nbformat_minor": 5
}
